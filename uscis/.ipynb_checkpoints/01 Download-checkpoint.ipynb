{
 "cells": [
  {
   "cell_type": "code",
   "execution_count": 28,
   "metadata": {},
   "outputs": [],
   "source": [
    "import os, time, re\n",
    "import pandas as pd"
   ]
  },
  {
   "cell_type": "code",
   "execution_count": 20,
   "metadata": {},
   "outputs": [],
   "source": [
    "input_dir = os.path.join(os.getcwd(),'input')"
   ]
  },
  {
   "cell_type": "code",
   "execution_count": 21,
   "metadata": {},
   "outputs": [],
   "source": [
    "os.path.exists(input_dir) or os.mkdir(input_dir)"
   ]
  },
  {
   "cell_type": "code",
   "execution_count": 22,
   "metadata": {},
   "outputs": [],
   "source": [
    "link_list = open('links.txt','r')"
   ]
  },
  {
   "cell_type": "code",
   "execution_count": 23,
   "metadata": {},
   "outputs": [],
   "source": [
    "lines = link_list.read().split('\\n')"
   ]
  },
  {
   "cell_type": "code",
   "execution_count": 24,
   "metadata": {},
   "outputs": [],
   "source": [
    "lines = filter(None, lines)"
   ]
  },
  {
   "cell_type": "code",
   "execution_count": 25,
   "metadata": {},
   "outputs": [
    {
     "data": {
      "text/plain": [
       "24"
      ]
     },
     "execution_count": 25,
     "metadata": {},
     "output_type": "execute_result"
    }
   ],
   "source": [
    "len(lines)"
   ]
  },
  {
   "cell_type": "code",
   "execution_count": 19,
   "metadata": {},
   "outputs": [
    {
     "name": "stdout",
     "output_type": "stream",
     "text": [
      "downloading https://uscis.gov/sites/default/files/USCIS/Resources/Reports%20and%20Studies/Immigration%20Forms%20Data/Family-Based/I485_performancedata_fy2018_qtr1.csv\n",
      "downloading https://uscis.gov/sites/default/files/USCIS/Resources/Reports%20and%20Studies/Immigration%20Forms%20Data/Family-Based/I485_Performancedata_fy2017_qtr4.csv\n",
      "downloading https://uscis.gov/sites/default/files/USCIS/Resources/Reports%20and%20Studies/Immigration%20Forms%20Data/Family-Based/I485_performancedata_fy2017_qtr3.csv\n",
      "downloading https://uscis.gov/sites/default/files/USCIS/Resources/Reports%20and%20Studies/Immigration%20Forms%20Data/Adjustment%20of%20Status/I485_performancedata_fy2017_qtr2.csv\n",
      "downloading https://uscis.gov/sites/default/files/USCIS/Resources/Reports%20and%20Studies/Immigration%20Forms%20Data/Adjustment%20of%20Status/I485_performancedata_fy2017_qtr1.csv\n",
      "downloading https://uscis.gov/sites/default/files/USCIS/Resources/Reports%20and%20Studies/Immigration%20Forms%20Data/Adjustment%20of%20Status/I485_performancedata_fy2016_qtr4.csv\n",
      "downloading https://uscis.gov/sites/default/files/USCIS/Resources/Reports%20and%20Studies/Immigration%20Forms%20Data/Adjustment%20of%20Status/I485_performancedata_fy2016_qtr3.csv\n",
      "downloading https://uscis.gov/sites/default/files/USCIS/Resources/Reports%20and%20Studies/Immigration%20Forms%20Data/Adjustment%20of%20Status/I485_performancedata_fy2016_qtr2.csv\n",
      "downloading https://uscis.gov/sites/default/files/USCIS/Resources/Reports%20and%20Studies/Immigration%20Forms%20Data/Adjustment%20of%20Status/I485_performancedata_fy2016_qtr1.csv\n",
      "downloading https://uscis.gov/sites/default/files/USCIS/Resources/Reports%20and%20Studies/Immigration%20Forms%20Data/Adjustment%20of%20Status/I485_performancedata_fy2015_qtr4.csv\n",
      "downloading https://uscis.gov/sites/default/files/USCIS/Resources/Reports%20and%20Studies/Immigration%20Forms%20Data/Adjustment%20of%20Status/I485_performancedata_fy2015_qtr3.csv\n",
      "downloading https://uscis.gov/sites/default/files/USCIS/Resources/Reports%20and%20Studies/Immigration%20Forms%20Data/Adjustment%20of%20Status/I485_performancedata_fy2015_qtr2.csv\n",
      "downloading https://uscis.gov/sites/default/files/USCIS/Resources/Reports%20and%20Studies/Immigration%20Forms%20Data/Adjustment%20of%20Status/I485_performancedata_fy2014_qtr4.csv\n",
      "downloading https://uscis.gov/sites/default/files/USCIS/Resources/Reports%20and%20Studies/Immigration%20Forms%20Data/Adjustment%20of%20Status/I485_performanced_ata_fy2014_qtr3.csv\n",
      "downloading https://uscis.gov/sites/default/files/USCIS/Resources/Reports%20and%20Studies/Immigration%20Forms%20Data/Adjustment%20of%20Status/I485_performancedata_fy2014qtr2.csv\n",
      "downloading https://uscis.gov/sites/default/files/USCIS/Resources/Reports%20and%20Studies/Immigration%20Forms%20Data/Adjustment%20of%20Status/I485_performancedata_fy2014qtr1.csv\n",
      "downloading https://uscis.gov/sites/default/files/USCIS/Resources/Reports%20and%20Studies/Immigration%20Forms%20Data/I-485Sep2013.csv\n",
      "downloading https://uscis.gov/sites/default/files/USCIS/Resources/Reports%20and%20Studies/Immigration%20Forms%20Data/Adjustment%20of%20Status/I485_performancedata_fy2013-qtr3.csv\n",
      "downloading https://uscis.gov/sites/default/files/USCIS/Resources/Reports%20and%20Studies/Immigration%20Forms%20Data/Adjustment%20of%20Status/I485_performancedata_2013-mar.csv\n",
      "downloading https://uscis.gov/sites/default/files/USCIS/Resources/Reports%20and%20Studies/Immigration%20Forms%20Data/Adjustment%20of%20Status/I485_performancedata_2012-dec.csv\n",
      "downloading https://uscis.gov/sites/default/files/USCIS/Resources/Reports%20and%20Studies/Immigration%20Forms%20Data/Adjustment%20of%20Status/I485-performancedata-2012-nov.csv\n",
      "downloading https://uscis.gov/sites/default/files/USCIS/Resources/Reports%20and%20Studies/Immigration%20Forms%20Data/Adjustment%20of%20Status/I485-performancedata-2013-Oct.csv\n",
      "downloading https://uscis.gov/sites/default/files/USCIS/Resources/Reports%20and%20Studies/Immigration%20Forms%20Data/Adjustment%20of%20Status/I485-performancedata-2012-sep.csv\n",
      "downloading https://uscis.gov/sites/default/files/USCIS/Resources/Reports%20and%20Studies/Immigration%20Forms%20Data/Adjustment%20of%20Status/I485-performancedata-2012-aug.csv\n"
     ]
    }
   ],
   "source": [
    "for line in lines:\n",
    "    print ('downloading {}'.format(line))\n",
    "    try: \n",
    "        name = re.search(r'(?<=[Pp]erformancedata.)(.*$)',line).group()\n",
    "    except AttributeError:\n",
    "        pass\n",
    "        name = line\n",
    "    \n",
    "    csv_path = os.path.join(input_dir, '{}'.format(name))\n",
    "    cmd = \"curl -o '{}' '{}'\".format(csv_path, line)\n",
    "    time.sleep(5)\n",
    "    os.system(cmd)"
   ]
  }
 ],
 "metadata": {
  "kernelspec": {
   "display_name": "Python 2",
   "language": "python",
   "name": "python2"
  },
  "language_info": {
   "codemirror_mode": {
    "name": "ipython",
    "version": 2
   },
   "file_extension": ".py",
   "mimetype": "text/x-python",
   "name": "python",
   "nbconvert_exporter": "python",
   "pygments_lexer": "ipython2",
   "version": "2.7.12"
  }
 },
 "nbformat": 4,
 "nbformat_minor": 2
}
